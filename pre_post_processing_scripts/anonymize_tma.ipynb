{
 "cells": [
  {
   "cell_type": "code",
   "execution_count": null,
   "id": "d4eade17059cc896",
   "metadata": {
    "collapsed": true
   },
   "outputs": [],
   "source": [
    "import pandas as pd\n",
    "import numpy as np\n",
    "\n",
    "df = pd.read_csv(\"../data/patient_meta.csv\")\n",
    "\n",
    "# Create random IDs\n",
    "tma_cases = df[\"tma_case\"].unique()\n",
    "random_ids = np.random.permutation(range(1, len(tma_cases) + 1))\n",
    "mapping = dict(zip(tma_cases, random_ids))\n",
    "\n",
    "# Add new anonymized column\n",
    "df[\"tma_case_anonymized\"] = df[\"tma_case\"].map(mapping)"
   ]
  },
  {
   "cell_type": "code",
   "execution_count": null,
   "outputs": [],
   "source": [
    "df.to_csv(\"patient_meta_anonymized.csv\", index=False)"
   ],
   "metadata": {
    "collapsed": false
   },
   "id": "initial_id"
  }
 ],
 "metadata": {
  "kernelspec": {
   "display_name": "Python 3",
   "language": "python",
   "name": "python3"
  },
  "language_info": {
   "codemirror_mode": {
    "name": "ipython",
    "version": 2
   },
   "file_extension": ".py",
   "mimetype": "text/x-python",
   "name": "python",
   "nbconvert_exporter": "python",
   "pygments_lexer": "ipython2",
   "version": "2.7.6"
  }
 },
 "nbformat": 4,
 "nbformat_minor": 5
}
