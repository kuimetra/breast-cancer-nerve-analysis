{
 "cells": [
  {
   "cell_type": "code",
   "execution_count": null,
   "id": "3d73d2ce805222e8",
   "metadata": {
    "collapsed": true
   },
   "outputs": [],
   "source": [
    "from data_io import load_tiff_files, save_tiff_file\n",
    "\n",
    "from scipy.ndimage import label\n",
    "import numpy as np"
   ]
  },
  {
   "cell_type": "code",
   "execution_count": null,
   "outputs": [],
   "source": [
    "pred_masks = load_tiff_files('../results/bin_nerve_mask')"
   ],
   "metadata": {
    "collapsed": false
   },
   "id": "a63d0b216acc6563"
  },
  {
   "cell_type": "code",
   "execution_count": null,
   "outputs": [],
   "source": [
    "# Convert binary masks to labeled segments using 8-connectivity\n",
    "for case_id, pred_mask in pred_masks.items():\n",
    "    labeled_segments, num_features = label(pred_mask, structure=np.ones((3, 3)))\n",
    "    save_tiff_file('../results/obj_num_nerve_mask', case_id, labeled_segments)"
   ],
   "metadata": {
    "collapsed": false
   },
   "id": "62767fdebc7ad733"
  },
  {
   "cell_type": "code",
   "execution_count": null,
   "outputs": [],
   "source": [],
   "metadata": {
    "collapsed": false
   },
   "id": "91b4a9c0c3417839"
  }
 ],
 "metadata": {
  "kernelspec": {
   "display_name": "Python 3",
   "language": "python",
   "name": "python3"
  },
  "language_info": {
   "codemirror_mode": {
    "name": "ipython",
    "version": 2
   },
   "file_extension": ".py",
   "mimetype": "text/x-python",
   "name": "python",
   "nbconvert_exporter": "python",
   "pygments_lexer": "ipython2",
   "version": "2.7.6"
  }
 },
 "nbformat": 4,
 "nbformat_minor": 5
}
