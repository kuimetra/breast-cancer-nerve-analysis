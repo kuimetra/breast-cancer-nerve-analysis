{
 "cells": [
  {
   "cell_type": "code",
   "execution_count": null,
   "id": "d207e92827134729",
   "metadata": {
    "collapsed": true
   },
   "outputs": [],
   "source": [
    "from data_io import load_data\n",
    "\n",
    "import pandas as pd"
   ]
  },
  {
   "cell_type": "code",
   "execution_count": null,
   "outputs": [],
   "source": [
    "patient_meta = pd.read_csv('../data/patient_meta.csv')\n",
    "tumor_stroma_aggregated = pd.read_csv(\"../results/tumor_stroma_fractions_aggregated.csv\")\n",
    "cell_type_aggregated = pd.read_csv(\"../results/cell_type_fractions_aggregated.csv\")"
   ],
   "metadata": {
    "collapsed": false
   },
   "id": "21a1399e2c9b2af1"
  },
  {
   "cell_type": "code",
   "execution_count": null,
   "outputs": [],
   "source": [
    "data = patient_meta.merge(cell_type_aggregated, left_on='tma_case', right_on='case_id', how='left')\n",
    "data = data.drop(columns=['case_id'])\n",
    "data = data.fillna(0)"
   ],
   "metadata": {
    "collapsed": false
   },
   "id": "7daf0dc145c54a64"
  },
  {
   "cell_type": "code",
   "execution_count": null,
   "outputs": [],
   "source": [
    "train_val_test_data = load_data(base_path=\"../data/datasets\", mode=\"all\")\n",
    "\n",
    "train_case_ids = train_val_test_data[\"train\"][\"bin_nerve_mask\"].keys()\n",
    "val_case_ids = train_val_test_data[\"val\"][\"bin_nerve_mask\"].keys()\n",
    "test_case_ids = train_val_test_data[\"test\"][\"bin_nerve_mask\"].keys()\n",
    "\n",
    "# Train and validation sets are combined as validation was used during model selection in image segmentation \n",
    "train_set = data[data[\"tma_case\"].isin([*train_case_ids] + [*val_case_ids])]\n",
    "test_set = data[data[\"tma_case\"].isin(test_case_ids)]"
   ],
   "metadata": {
    "collapsed": false
   },
   "id": "6082b2b64c81ddab"
  },
  {
   "cell_type": "code",
   "execution_count": null,
   "outputs": [],
   "source": [
    "train_set.to_csv(\"../survival_analysis_data/pred_train_set_cells.csv\", index=False)\n",
    "test_set.to_csv(\"../survival_analysis_data/pred_test_set_cells.csv\", index=False)"
   ],
   "metadata": {
    "collapsed": false
   },
   "id": "initial_id"
  },
  {
   "cell_type": "code",
   "execution_count": null,
   "outputs": [],
   "source": [],
   "metadata": {
    "collapsed": false
   },
   "id": "745ac06b563079cd"
  }
 ],
 "metadata": {
  "kernelspec": {
   "display_name": "Python 3",
   "language": "python",
   "name": "python3"
  },
  "language_info": {
   "codemirror_mode": {
    "name": "ipython",
    "version": 2
   },
   "file_extension": ".py",
   "mimetype": "text/x-python",
   "name": "python",
   "nbconvert_exporter": "python",
   "pygments_lexer": "ipython2",
   "version": "2.7.6"
  }
 },
 "nbformat": 4,
 "nbformat_minor": 5
}
