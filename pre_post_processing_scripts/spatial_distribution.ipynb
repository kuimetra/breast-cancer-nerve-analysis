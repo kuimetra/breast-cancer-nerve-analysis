{
 "cells": [
  {
   "cell_type": "code",
   "execution_count": null,
   "outputs": [],
   "source": [
    "from data_io import load_tiff_files\n",
    "\n",
    "import pandas as pd\n",
    "import numpy as np"
   ],
   "metadata": {
    "collapsed": false
   },
   "id": "initial_id"
  },
  {
   "cell_type": "code",
   "execution_count": null,
   "outputs": [],
   "source": [
    "cell_meta_df = pd.read_csv('../data/cell_meta.csv')\n",
    "\n",
    "cell_masks = load_tiff_files('../data/cell_masks')\n",
    "compartment_masks = load_tiff_files('../data/compartment_masks')\n",
    "\n",
    "loose_obj_num_masks = load_tiff_files('../data/obj_num_nerve_mask')\n",
    "pred_obj_num_masks = load_tiff_files('../results/filtered_obj_num_nerve_mask')"
   ],
   "metadata": {
    "collapsed": false
   },
   "id": "64b4e770051db721"
  },
  {
   "cell_type": "code",
   "execution_count": null,
   "outputs": [],
   "source": [
    "def quantify_tumor_stroma_overlap(compartment_mask, nerve_mask):\n",
    "    \"\"\" Computes the fraction of tumor cell (1) and tumor stroma (0) pixels within each nerve region. \"\"\"\n",
    "    unique_nerves = np.unique(nerve_mask[nerve_mask > 0])\n",
    "    if len(unique_nerves) == 0:\n",
    "        return pd.DataFrame(columns=[\"nerve_id\", \"pred_n_stroma\", \"pred_n_tumor\"])\n",
    "\n",
    "    data = []\n",
    "\n",
    "    for nerve_id in unique_nerves:\n",
    "        nerve_pixels = (nerve_mask == nerve_id)  # Boolean mask for current nerve\n",
    "\n",
    "        # Count pixels overlapping with tumor cell (1) and tumor stroma (0)\n",
    "        stroma_pixels = np.sum(compartment_mask[nerve_pixels] == 0)\n",
    "        tumor_pixels = np.sum(compartment_mask[nerve_pixels] == 1)\n",
    "\n",
    "        total_pixels = tumor_pixels + stroma_pixels\n",
    "\n",
    "        frac_stroma = stroma_pixels / total_pixels\n",
    "        frac_tumor = tumor_pixels / total_pixels\n",
    "\n",
    "        data.append([nerve_id, frac_stroma, frac_tumor])\n",
    "\n",
    "    return pd.DataFrame(data, columns=[\"nerve_id\", \"pred_n_stroma\", \"pred_n_tumor\"])"
   ],
   "metadata": {
    "collapsed": false
   },
   "id": "7582f995bc3db74"
  },
  {
   "cell_type": "code",
   "execution_count": null,
   "outputs": [],
   "source": [
    "def map_cell_type_distribution(cell_mask, nerve_mask, cell_meta_df):\n",
    "    \"\"\" Computes the fraction of each cell type in the nerve regions. \"\"\"\n",
    "\n",
    "    cell_mask = (cell_mask > 0).astype(int)\n",
    "\n",
    "    unique_nerves = np.unique(nerve_mask[nerve_mask > 0])\n",
    "    data = []\n",
    "\n",
    "    for nerve_id in unique_nerves:\n",
    "        nerve_pixels = (nerve_mask == nerve_id)  # Boolean mask for current nerve region\n",
    "\n",
    "        # Compute the number of pixels belonging to each cell type\n",
    "        cell_type_counts = [np.sum(cell_mask[i, :, :][nerve_pixels]) for i in range(cell_mask.shape[0])]\n",
    "\n",
    "        # Compute total nerve region size\n",
    "        total_nerve_pixels = np.sum(nerve_pixels)\n",
    "        total_assigned_pixels = sum(cell_type_counts)\n",
    "        unclassified_pixels = total_nerve_pixels - total_assigned_pixels\n",
    "\n",
    "        # Compute fraction of each cell type in the nerve region\n",
    "        cell_type_fractions = [count / total_nerve_pixels for count in cell_type_counts]\n",
    "        unclassified_fraction = unclassified_pixels / total_nerve_pixels\n",
    "\n",
    "        data.append([nerve_id] + cell_type_fractions + [unclassified_fraction])\n",
    "\n",
    "    # Use cell type names from cell_meta_df for column names\n",
    "    col_names = [\"nerve_id\"] + sorted(cell_meta_df['cell_type'].unique()) + [\"unclassified\"]\n",
    "    df = pd.DataFrame(data, columns=col_names)\n",
    "\n",
    "    return df"
   ],
   "metadata": {
    "collapsed": false
   },
   "id": "2ed0afb967115c48"
  },
  {
   "cell_type": "code",
   "execution_count": null,
   "outputs": [],
   "source": [
    "tumor_stroma_fractions = []\n",
    "cell_type_fractions = []\n",
    "\n",
    "for case_id, nerve_mask in pred_obj_num_masks.items():\n",
    "    compartment_mask = compartment_masks[case_id]  # Single-layer mask for tumor/stroma separation\n",
    "    cell_mask = cell_masks[case_id]  # Multi-layer mask for cell types\n",
    "\n",
    "    tumor_stroma_df = quantify_tumor_stroma_overlap(compartment_mask, nerve_mask)\n",
    "    tumor_stroma_df[\"case_id\"] = case_id\n",
    "    tumor_stroma_fractions.append(tumor_stroma_df)\n",
    "\n",
    "    cell_fraction_df = map_cell_type_distribution(cell_mask, nerve_mask, cell_meta_df)\n",
    "    cell_fraction_df[\"case_id\"] = case_id\n",
    "    cell_type_fractions.append(cell_fraction_df)\n",
    "\n",
    "tumor_stroma_fractions_df = pd.concat(tumor_stroma_fractions, ignore_index=True)\n",
    "cell_type_fractions_df = pd.concat(cell_type_fractions, ignore_index=True)"
   ],
   "metadata": {
    "collapsed": false
   },
   "id": "70f7278cb5b3244d"
  },
  {
   "cell_type": "code",
   "execution_count": null,
   "outputs": [],
   "source": [
    "# Summarize the tumor-stroma fractions and cell type distributions across all cases\n",
    "tumor_stroma_aggregated = tumor_stroma_fractions_df.groupby(\"case_id\").sum().drop(\"nerve_id\", axis=1)\n",
    "tumor_stroma_aggregated[\"pred_nerve_count\"] = tumor_stroma_fractions_df.groupby(\"case_id\").size()\n",
    "\n",
    "cell_type_aggregated = cell_type_fractions_df.groupby(\"case_id\").sum().drop(\"nerve_id\", axis=1)\n",
    "cell_type_aggregated[\"pred_nerve_count\"] = cell_type_fractions_df.groupby(\"case_id\").size()"
   ],
   "metadata": {
    "collapsed": false
   },
   "id": "714c477b31278246"
  },
  {
   "cell_type": "code",
   "execution_count": null,
   "outputs": [],
   "source": [
    "tumor_stroma_aggregated.to_csv(\"../results/tumor_stroma_fractions_aggregated.csv\")\n",
    "cell_type_aggregated.to_csv(\"../results/cell_type_fractions_aggregated.csv\")"
   ],
   "metadata": {
    "collapsed": false
   },
   "id": "5f9aec3a0b716310"
  },
  {
   "cell_type": "code",
   "execution_count": null,
   "outputs": [],
   "source": [
    "tumor_stroma_fractions_df = pd.read_csv(\"../results/tumor_stroma_fractions_aggregated.csv\")\n",
    "cell_type_fractions_df = pd.read_csv(\"../results/cell_type_fractions_aggregated.csv\")"
   ],
   "metadata": {
    "collapsed": false
   },
   "id": "12e7bac7e788f5c"
  },
  {
   "cell_type": "code",
   "execution_count": null,
   "outputs": [],
   "source": [
    "tumor_stroma_fractions_df"
   ],
   "metadata": {
    "collapsed": false
   },
   "id": "98b86922230b1443"
  },
  {
   "cell_type": "code",
   "execution_count": null,
   "outputs": [],
   "source": [
    "cell_type_fractions_df"
   ],
   "metadata": {
    "collapsed": false
   },
   "id": "6141d1c3063adbbe"
  },
  {
   "cell_type": "code",
   "execution_count": null,
   "outputs": [],
   "source": [],
   "metadata": {
    "collapsed": false
   },
   "id": "d1fc80c6983b890c"
  }
 ],
 "metadata": {
  "kernelspec": {
   "display_name": "Python 3",
   "language": "python",
   "name": "python3"
  },
  "language_info": {
   "codemirror_mode": {
    "name": "ipython",
    "version": 2
   },
   "file_extension": ".py",
   "mimetype": "text/x-python",
   "name": "python",
   "nbconvert_exporter": "python",
   "pygments_lexer": "ipython2",
   "version": "2.7.6"
  }
 },
 "nbformat": 4,
 "nbformat_minor": 5
}
