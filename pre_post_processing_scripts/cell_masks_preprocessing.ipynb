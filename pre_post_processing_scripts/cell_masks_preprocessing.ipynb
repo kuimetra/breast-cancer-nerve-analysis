{
 "cells": [
  {
   "cell_type": "code",
   "execution_count": null,
   "id": "initial_id",
   "metadata": {
    "collapsed": true
   },
   "outputs": [],
   "source": [
    "from data_io import load_tiff_files, save_tiff_file\n",
    "\n",
    "import pandas as pd\n",
    "import numpy as np"
   ]
  },
  {
   "cell_type": "code",
   "execution_count": null,
   "outputs": [],
   "source": [
    "single_layer_cell_masks = load_tiff_files('../data_start/cell_masks')\n",
    "cell_meta_df = pd.read_csv('../data/cell_meta.csv')\n",
    "tma_cases = cell_meta_df[\"tma_case\"].unique()"
   ],
   "metadata": {
    "collapsed": false
   },
   "id": "21a8f35be6be8825"
  },
  {
   "cell_type": "code",
   "execution_count": null,
   "outputs": [],
   "source": [
    "cell_type_masks = {}\n",
    "unique_cell_types = sorted(cell_meta_df['cell_type'].unique())\n",
    "\n",
    "for tma_case in tma_cases:\n",
    "    mask = single_layer_cell_masks[tma_case]\n",
    "    sample_meta = cell_meta_df[cell_meta_df['tma_case'] == tma_case]\n",
    "\n",
    "    type_masks_list = []\n",
    "\n",
    "    # Iterate through each unique cell type in the sorted order\n",
    "    for cell_type in unique_cell_types:\n",
    "        object_numbers = sample_meta[sample_meta['cell_type'] == cell_type]['obj_num'].values\n",
    "\n",
    "        # Create a mask for the current cell type with object values (0 where they don't match)\n",
    "        type_mask = np.where(np.isin(mask, object_numbers), mask, 0)\n",
    "        type_masks_list.append(type_mask)\n",
    "\n",
    "    cell_type_masks[tma_case] = np.array(type_masks_list)"
   ],
   "metadata": {
    "collapsed": false
   },
   "id": "4ca542eafc6ae495"
  },
  {
   "cell_type": "code",
   "execution_count": null,
   "outputs": [],
   "source": [
    "for tma_case, cell_masks in cell_type_masks.items():\n",
    "    save_tiff_file(f\"data/cell_masks\", tma_case, cell_masks)"
   ],
   "metadata": {
    "collapsed": false
   },
   "id": "c54f69595a8ed179"
  },
  {
   "cell_type": "code",
   "execution_count": null,
   "outputs": [],
   "source": [],
   "metadata": {
    "collapsed": false
   },
   "id": "924421c242a437f7"
  }
 ],
 "metadata": {
  "kernelspec": {
   "display_name": "Python 3",
   "language": "python",
   "name": "python3"
  },
  "language_info": {
   "codemirror_mode": {
    "name": "ipython",
    "version": 2
   },
   "file_extension": ".py",
   "mimetype": "text/x-python",
   "name": "python",
   "nbconvert_exporter": "python",
   "pygments_lexer": "ipython2",
   "version": "2.7.6"
  }
 },
 "nbformat": 4,
 "nbformat_minor": 5
}
